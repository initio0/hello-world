#!/usr/bin/env python3
# -*- coding: utf-8 -*-
"""
Created on Tue Feb 25 14:28:47 2025

@author: tao
"""

from decimal import Decimal, getcontext

# Set precision to 510 digits to ensure 500 accurate digits after rounding
getcontext().prec = 510

def factorial(n):
    if n == 0:
        return Decimal(1)
    result = Decimal(1)
    for i in range(1, n + 1):
        result *= i
    return result

def chudnovsky_pi(digits):
    C = 426880 * Decimal(10005).sqrt()  # Constant factor
    L = 13591409
    X = 640320
    M = 1  # Multiplier starts at 1 for k=0
    K = 6
    S = L  # Sum starts with first term

    for k in range(1, digits // 14 + 1):  # ~14 digits per term
        M = M * (K - 5) * (K - 4) * (K - 3) * (K - 2) * (K - 1) * K // (k * k * k)
        L += 545140134
        X *= 640320 ** 3
        term = Decimal(M * L) / Decimal(X)
        if k % 2 == 1:
            S -= term
        else:
            S += term
        K += 6
        # Stop if term is too small to affect 500 digits
        if abs(term) < Decimal('10')**(-digits - 10):
            break

    pi = C / S
    return pi

# Calculate π to 500 digits
pi_value = chudnovsky_pi(500)

# Format to 500 digits after decimal point
pi_str = str(pi_value)[:502]  # 3 + '.' + 500 digits
print(pi_str)
